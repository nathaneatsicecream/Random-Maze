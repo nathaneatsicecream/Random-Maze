{
 "cells": [
  {
   "cell_type": "markdown",
   "metadata": {},
   "source": [
    "## Random Maze\n"
   ]
  },
  {
   "cell_type": "markdown",
   "metadata": {},
   "source": [
    "### Function to plot maze and show the cell indices"
   ]
  },
  {
   "cell_type": "code",
   "execution_count": 2,
   "metadata": {
    "scrolled": true
   },
   "outputs": [
    {
     "data": {
      "text/plain": [
       "plot_cell_indices (generic function with 1 method)"
      ]
     },
     "execution_count": 2,
     "metadata": {},
     "output_type": "execute_result"
    }
   ],
   "source": [
    "using PyPlot, Random\n",
    "\n",
    "function plot_maze(H,V)\n",
    "    clf()\n",
    "    axis(\"off\")\n",
    "    axis(\"equal\")\n",
    "    n = size(H,1)\n",
    "    #figure(figsize=(12, 10), dpi=200)\n",
    "    plot([0,n,n,0,0], [0,0,n,n,0], color=\"k\")\n",
    "    \n",
    "    for x = 1:n-1, y = 1:n\n",
    "        if V[x,y]\n",
    "            plot([x,x], [y-1,y], color=\"k\")\n",
    "        end\n",
    "    end\n",
    "    for x = 1:n, y = 1:n-1\n",
    "        if H[x,y]\n",
    "            plot([x-1,x], [y,y], color=\"k\")\n",
    "        end\n",
    "    end\n",
    "end\n",
    "\n",
    "function plot_cell_indices(n)\n",
    "    for i = 1:n\n",
    "        for j = 1:n\n",
    "            text(i-0.5, j-0.5, \"($i,$j)\",\n",
    "                horizontalalignment=\"center\",\n",
    "                verticalalignment=\"center\",\n",
    "                fontsize=8)\n",
    "        end\n",
    "    end\n",
    "end"
   ]
  },
  {
   "cell_type": "markdown",
   "metadata": {},
   "source": [
    "### Generate random maze"
   ]
  },
  {
   "cell_type": "code",
   "execution_count": 6,
   "metadata": {},
   "outputs": [
    {
     "data": {
      "text/plain": [
       "make_maze (generic function with 1 method)"
      ]
     },
     "execution_count": 6,
     "metadata": {},
     "output_type": "execute_result"
    }
   ],
   "source": [
    "function make_maze(n)\n",
    "    H = trues(n, n-1)\n",
    "    V = trues(n-1, n)\n",
    "    visit = falses(n,n)\n",
    "    visit[1,1] = true\n",
    "    a = 0; b = 0;\n",
    "\n",
    "    # Creating the dig function\n",
    "    function dig(x,y)\n",
    "        choices = randperm(4)\n",
    "        a == x; b == y;\n",
    "        for i = 1:4\n",
    "            if choices[i] == 1 && x <= n - 1\n",
    "                if visit[x + 1,y] == false\n",
    "                    V[x,y] = false\n",
    "                    x += 1\n",
    "                    visit[x,y] = true\n",
    "                    dig(x,y)    # Calling the function recursively\n",
    "                    dig(x-1,y)\n",
    "                end\n",
    "            elseif choices[i] == 2 && x - 1 >= 1\n",
    "                if visit[x - 1,y] == false\n",
    "                    V[x - 1,y] = false\n",
    "                    x -= 1\n",
    "                    visit[x,y] = true\n",
    "                    dig(x,y)\n",
    "                    dig(x+1,y)\n",
    "                end\n",
    "            elseif choices[i] == 3 && y <= n - 1\n",
    "                if visit[x,y + 1] == false\n",
    "                    H[x,y] = false\n",
    "                    y += 1\n",
    "                    visit[x,y] = true\n",
    "                    dig(x,y)\n",
    "                    dig(x,y-1)\n",
    "                end\n",
    "            elseif choices[i] == 4 && y - 1 >= 1\n",
    "                if visit[x,y - 1] == false\n",
    "                    H[x,y - 1] = false\n",
    "                    y -= 1\n",
    "                    visit[x,y] = true\n",
    "                    dig(x,y)\n",
    "                    dig(x,y+1)\n",
    "                end\n",
    "            end\n",
    "\n",
    "            # Ends the recurison if all cells surrounding the cell its on have been visited\n",
    "            if x == a && y == b\n",
    "                return 1\n",
    "            end\n",
    "        end\n",
    "    end\n",
    "\n",
    "    dig(1,1)\n",
    "    return H, V, visit\n",
    "end"
   ]
  },
  {
   "cell_type": "code",
   "execution_count": 7,
   "metadata": {},
   "outputs": [
    {
     "data": {
      "image/png": "[encoded data removed]",
      "text/plain": [
       "Figure(PyObject <Figure size 640x480 with 1 Axes>)"
      ]
     },
     "metadata": {},
     "output_type": "display_data"
    }
   ],
   "source": [
    "H,V,visit = make_maze(6)\n",
    "plot_maze(H,V)\n",
    "plot_cell_indices(size(H,1))"
   ]
  },
  {
   "cell_type": "markdown",
   "metadata": {},
   "source": [
    "### Find path from `1,n` to `n,1`\n"
   ]
  },
  {
   "cell_type": "code",
   "execution_count": 8,
   "metadata": {},
   "outputs": [
    {
     "data": {
      "text/plain": [
       "find_path (generic function with 1 method)"
      ]
     },
     "execution_count": 8,
     "metadata": {},
     "output_type": "execute_result"
    }
   ],
   "source": [
    "function find_path(H,V)\n",
    "    visit = falses(size(H,1), size(V,2))\n",
    "    visit[1, size(H,1)] = true\n",
    "    pathx = Int64[1]; pathy = Int64[size(H,1)]\n",
    "\n",
    "    function recur(x,y) # Function basically follows the same method as dig function \n",
    "        a = x; b = y;\n",
    "        if x + 1 <= size(H,1) && V[x,y] == false\n",
    "            if visit[x+1,y] == false\n",
    "                x += 1\n",
    "                visit[x,y] = true\n",
    "                push!(pathx, x)\n",
    "                push!(pathy,y)\n",
    "                recur(x,y)\n",
    "                recur(x-1,y)\n",
    "            end\n",
    "        end\n",
    "        if x - 1 >= 1 && V[x - 1,y] == false\n",
    "            if visit[x-1,y] == false\n",
    "                x -=1\n",
    "                visit[x,y] = true\n",
    "                push!(pathx, x)\n",
    "                push!(pathy,y)\n",
    "                recur(x,y)\n",
    "                recur(x+1,y)\n",
    "            end\n",
    "        end\n",
    "        if y + 1 <= size(H,1) && H[x,y] == false\n",
    "            if visit[x,y+1] == false\n",
    "                y += 1\n",
    "                visit[x,y] = true\n",
    "                push!(pathx, x)\n",
    "                push!(pathy,y)\n",
    "                recur(x,y)\n",
    "                recur(x,y-1)\n",
    "            end\n",
    "        end\n",
    "        if y - 1 >= 1 && H[x,y-1] == false\n",
    "            if visit[x,y-1] == false\n",
    "                y -=1\n",
    "                visit[x,y] = true\n",
    "                push!(pathx, x)\n",
    "                push!(pathy,y)\n",
    "                recur(x,y)\n",
    "                recur(x,y+1)\n",
    "            end\n",
    "        end\n",
    "        if x == a && y == b # Breaking the recursion\n",
    "            if pathx[end] == size(H,1) && pathy[end] == 1 # Checking to see if the last cells is the one we want\n",
    "                return pathx, pathy\n",
    "            end\n",
    "            pop!(pathx) # Removing the checked cells until it ends with cell we want\n",
    "            pop!(pathy)\n",
    "            return 1\n",
    "        end\n",
    "    end\n",
    "    \n",
    "    recur(1,size(H,1))\n",
    "    return pathx, pathy\n",
    "end"
   ]
  },
  {
   "cell_type": "code",
   "execution_count": 9,
   "metadata": {},
   "outputs": [
    {
     "data": {
      "image/png": "[encoded data removed]",
      "text/plain": [
       "Figure(PyObject <Figure size 640x480 with 1 Axes>)"
      ]
     },
     "metadata": {},
     "output_type": "display_data"
    }
   ],
   "source": [
    "find_path(H,V)\n",
    "plot_maze(H,V)\n",
    "x, y = find_path(H,V)\n",
    "plot(x .- 0.5, y .- 0.5, color=\"r\", linewidth=4);"
   ]
  },
  {
   "cell_type": "markdown",
   "metadata": {},
   "source": [
    "### Problem 3 - Large maze test\n",
    "\n",
    "Finally, run the code below to illustrate your codes."
   ]
  },
  {
   "cell_type": "code",
   "execution_count": 10,
   "metadata": {},
   "outputs": [
    {
     "data": {
      "image/png": "[encoded data removed]",
      "text/plain": [
       "Figure(PyObject <Figure size 640x480 with 1 Axes>)"
      ]
     },
     "metadata": {},
     "output_type": "display_data"
    },
    {
     "data": {
      "text/plain": [
       "1-element Vector{PyCall.PyObject}:\n",
       " PyObject <matplotlib.lines.Line2D object at 0x1c7de6160>"
      ]
     },
     "execution_count": 10,
     "metadata": {},
     "output_type": "execute_result"
    }
   ],
   "source": [
    "n = 25\n",
    "H,V = make_maze(n)\n",
    "plot_maze(H,V)\n",
    "x, y = find_path(H,V)\n",
    "plot(x .- 0.5, y .- 0.5, color=\"r\", linewidth=4);\n",
    "plot(1,size(H,1), marker=\"v\",  markersize=12)\n",
    "plot(size(H,1), 1, marker=\"<\",  markersize=12)"
   ]
  }
 ],
 "metadata": {
  "kernelspec": {
   "display_name": "Julia 1.6.5",
   "language": "julia",
   "name": "julia-1.6"
  },
  "language_info": {
   "file_extension": ".jl",
   "mimetype": "application/julia",
   "name": "julia",
   "version": "1.6.5"
  }
 },
 "nbformat": 4,
 "nbformat_minor": 2
}
